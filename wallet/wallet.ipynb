{
 "cells": [
  {
   "cell_type": "code",
   "execution_count": 1,
   "metadata": {},
   "outputs": [],
   "source": [
    "import subprocess\n",
    "import json\n",
    "import os\n",
    "\n",
    "from constants import *\n",
    "from pprint import pprint\n",
    "\n",
    "from bit import PrivateKeyTestnet\n",
    "from bit.network import NetworkAPI\n",
    "\n",
    "from web3 import Web3, middleware, Account\n",
    "from web3.gas_strategies.time_based import medium_gas_price_strategy\n",
    "from web3.middleware import geth_poa_middleware\n"
   ]
  },
  {
   "cell_type": "code",
   "execution_count": 2,
   "metadata": {},
   "outputs": [],
   "source": [
    "# connect Web3\n",
    "w3 = Web3(Web3.HTTPProvider(os.getenv('WEB3_PROVIDER', 'http://localhost:8545')))\n",
    "w3 = Web3(Web3.HTTPProvider(\"http://127.0.0.1:8545\"))\n",
    "w3.middleware_onion.inject(geth_poa_middleware, layer=0)"
   ]
  },
  {
   "cell_type": "code",
   "execution_count": 3,
   "metadata": {},
   "outputs": [
    {
     "data": {
      "text/plain": [
       "3365"
      ]
     },
     "execution_count": 3,
     "metadata": {},
     "output_type": "execute_result"
    }
   ],
   "source": [
    "w3.eth.blockNumber"
   ]
  },
  {
   "cell_type": "code",
   "execution_count": 4,
   "metadata": {},
   "outputs": [
    {
     "data": {
      "text/plain": [
       "904625697166532776746648320380374280103671755200316906558261745061821325309"
      ]
     },
     "execution_count": 4,
     "metadata": {},
     "output_type": "execute_result"
    }
   ],
   "source": [
    "w3.eth.getBalance(\"0x5793762f4B97A148E5f478ABE7705E3f7d628486\")"
   ]
  },
  {
   "cell_type": "code",
   "execution_count": 5,
   "metadata": {},
   "outputs": [
    {
     "data": {
      "text/plain": [
       "904625697166532776746648320380374280103671755200316906558261745061821325309"
      ]
     },
     "execution_count": 5,
     "metadata": {},
     "output_type": "execute_result"
    }
   ],
   "source": [
    "w3.eth.getBalance(\"0x5793762f4B97A148E5f478ABE7705E3f7d628486\")\n"
   ]
  },
  {
   "cell_type": "code",
   "execution_count": 6,
   "metadata": {},
   "outputs": [],
   "source": [
    "os.chdir(r'C:\\Users\\richa\\blockchain')\n",
    "#make sure you are in this folder"
   ]
  },
  {
   "cell_type": "code",
   "execution_count": 7,
   "metadata": {},
   "outputs": [],
   "source": [
    "w3.eth.setGasPriceStrategy(medium_gas_price_strategy)"
   ]
  },
  {
   "cell_type": "code",
   "execution_count": 8,
   "metadata": {},
   "outputs": [],
   "source": [
    "mnemonic = os.getenv(\"MNEMONIC\", 'buyer cloud sign timber team artefact snow risk brisk shift crawl people')\n"
   ]
  },
  {
   "cell_type": "code",
   "execution_count": 9,
   "metadata": {},
   "outputs": [
    {
     "name": "stdout",
     "output_type": "stream",
     "text": [
      "b\"\\n+-----------------+------------------------------------+-----------------------------------------------------------------------------------------------------------------+-----------------------------------------------------------------------------------------------------------------+------------------------------------------------------+--------------------------------------------------------------------+------------------------------------------+-------+\\n| path            | address                            | xprv                                                                                                            | xpub                                                                                                            | privkey                                              | pubkey                                                             | pubkeyhash                               | index |\\n+-----------------+------------------------------------+-----------------------------------------------------------------------------------------------------------------+-----------------------------------------------------------------------------------------------------------------+------------------------------------------------------+--------------------------------------------------------------------+------------------------------------------+-------+\\n| m/44'/0'/0'/0/0 | 14vD7oQteCmb27hq1CjkiN85BVvLDjytGF | xprvA36NXtpwDjTCzQZCu482xmS7WMECBTxFqWr32gppZfgtjZywL9AfUX3otmr16owmqJTGCLz4UqC5UD9VznM2x4W5Pt98SP14WRpxb1JeiFM | xpub6G5iwQMq471WCtdg15f3KuNr4P4gavg7Cjmdq5ES81DscNK5sgUv2KNHk2pXVf2G1uQUu9sgnuKHmoPnQigJCNGxzPPw63TEXx1wa8h5CUc | L2qc9BgBWrTbJdgLWSpzWKb7mDafzC5nbhXLBywJLauGoBKNi4pM | 02a04a93c503636f5a08acb4a09fda45c82e49ea539d75f32ae28bbdb920cfe854 | 2af889cd8f2af3940a542c2c49a8df254eb6f609 |     0 |\\n| m/44'/0'/0'/0/1 | 16ERSrXHQE5HmMZTWuW1VxH456J3dCAL88 | xprvA36NXtpwDjTD4kkyJvqPAjjf8YLQCMerkrKWfzWJBpVvkp2ncRfM19XUWxgxVos3RrVb36EkQFPh8LSAQ2JFiryJEwKRt7nDyAD4fsZcyLu | xpub6G5iwQMq471WHEqSQxNPXsgPgaAtbpNi85F7UNuukA2udcMw9xybYwqxNDhwTMw9EA3bZJry3HJZ5vN9DKoKYuDLTYnfmFkD3vmQ658BjFB | L1SNUrTFRB2Chu74g6U1q7PKU3vpkoEtDqRvqVRGhm7ZwPb5HXZL | 027c14f55cf9ebe79e6276ebdce589bba3ad38872fdab371dc8d5a8b444ddd3e1b | 3962715587c2a1068dc1ce19c0a303b9cdd4cd86 |     1 |\\n| m/44'/0'/0'/0/2 | 1C21j1HtSv7v2epfcVaMVJtA4iad9urSWr | xprvA36NXtpwDjTD5SZTHsh1Yeac2QK7tUhe6qAm1TcEh6zAf7BcRKPJAZqwgSvSJa5XG3yVcPWKdV1NwjSqY3ovt3RU9jVKfGx9Hjk2StQMdNm | xpub6G5iwQMq471WHvdvPuE1unXLaS9cHwRVU46Mor1rFSX9XuWkxrhYiNARXkkTbMfKHMuJUHPTzpi26S3guhVmFhg6NCwZDgkxMJNnVChd7A5 | L1su8exzRW5XcWHRzys6VxQAocmoMVjJH1rFb96Xdk8mJqKRDvHJ | 03fb6adb0688b0a418c99f631dba47ffb03ddaf143865c91d38c8867f715967cdc | 78da67756c7eab7c138dd43d589d3b9e7c78eca2 |     2 |\\n| m/44'/0'/0'/0/3 | 18q2sTUGbNSTu8TmoMdR86jjCxE4ri2iFZ | xprvA36NXtpwDjTD8ruQsxbyS8MBJoaQpXFvUaghv4E7ty2BQXJ4KpBuTmFjEHyZEH3xZ3U1fUJW11xDu5amfZ5zpfrKa8oCMnQiBBgz37nUEgp | xpub6G5iwQMq471WMLysyz8yoGHurqQuDyymqocJiSdjTJZAHKdCsMWA1ZaD5YhUgSvfvJKgajcK1DtuuEWhdHjLNTSBLnnP8WYhPxiva5gkES8 | L2m4rNuHosKf73owkT9ujPVs5u1GXhEPdxyPQqMBr8Lu1Kv4Jw2V | 027ccca335daf113acbab46fcd57b5ceaf35f0a056915639ebdac5bc5ea21d77be | 55de685851b8dccd8570a1daa72b88820f7149fc |     3 |\\n| m/44'/0'/0'/0/4 | 13NXqdgT2CBGBsG16vCCPrBDZbgSXdW71h | xprvA36NXtpwDjTDANG63D5ty7HJah7BkLYqXDUBuTEYiQz7Pwz53qwbZwho5Xc6zDfXV7kV3ADzaig52U3NW82hKhrdntdJELKkrYzWorqkQ1o | xpub6G5iwQMq471WNrLZ9EcuLFE38iwg9oGgtSPnhqeAGkX6GkKDbPFr7k2Gvm9Tib3dobXaaoa3jAuDUwo5vvosupdbiU6rqNE64KL4QZAbRfq | L5YVknijykSkbGFWBP5j14tYUDxV8HJmTbUCAbyocdCZLU8T18Xy | 0234295549a87fe1c05c8cdced549ffcf8f59c6231ed4260be99b3647b14f921df | 1a02babc96becbc7ba3eeb4c35fc4503af3480a2 |     4 |\\n| m/44'/0'/0'/0/5 | 1CdRX5hx8fyVHzXtDpt8xE8hsAafYUfKY8 | xprvA36NXtpwDjTDERG8U2woYdhN5GcDxziAzqH9VajBLQt8Qm8CQHrKcA212VipzMM6zHooUnkq8KyuxWXM5hrtnG29SEkiFUKV5BqoMorwu5v | xpub6G5iwQMq471WSuLba4Uoume6dJSiNTS2N4CkHy8ntkR7HZTLwqAa9xLUsnEs6FMioZk63qG2uNGBmtRRymvLKvz9C3VdokgLiwM4PF3N3ZL | L4xSB3W2uZzTGVZfega1pWcCcvBES2Bz3Zorqpx3TCAQWtjTrL1A | 03aaba27dbb30db1fa5baacbb11c63a57b80f37cbfd3d6d06960a6ce2f67cf33d7 | 7f8cd34bdaa3928b11e4e62ff10e9b48069860ff |     5 |\\n| m/44'/0'/0'/0/6 | 16o1hfMKiR19yjU6nfEEAzRUHeTBCShhiS | xprvA36NXtpwDjTDGkCRgPoqfp7CN5xgY9vm1GY7JGQGeevsfPLtCigsJf6vzQg8NwPR5qytDBEAnL3votFm2u1y8wBEXBD9WznsM2GQ5fvKRoJ | xpub6G5iwQMq471WVEGtnRLr2x3vv7oAwcecNVTi6eotCzTrYBg2kG17rTRQqeK1voSd8rknkr4pJEr3hBMLpJm3Rev1VAuFXhJaJjBw39hBg6U | L4RmELHwA5n45TMQHgMAeBMNoaH6vZYcHswSiWrSo79BXairYr3n | 021f6b7d5afb79e552f968eb56dcf96c86ce9d5e2504934679bf4380c4efd6a7a8 | 3f8c592ef5567163e4068b88b1cbe4bfd1015cf5 |     6 |\\n| m/44'/0'/0'/0/7 | 1H8qckQzxNNoBs9GTsMWXF9VfrFe2fctwV | xprvA36NXtpwDjTDJE9J6FA8HvFpysf3U621jBU76T6UKvsTmBB9sazqvyfVQcur214FXgbPNRpNrRYuZJYnTTHv6HESFDtFwA9Th6tXYJBEjwa | xpub6G5iwQMq471WWiDmCGh8f4CZXuVXsYjs6QPhtqW5tGQSdyWJR8K6UmyyFuUL8ide2dDFjKEmtFLCAt8N8nswhtGzyWzREtCbjUoRN7uEZ79 | L4edGNGjTdxaDjBsp1ewoSmF2MA1h7tZZLaCh4fTYFeiXMdFeQCn | 03a72015c6efb747a2c72c00218a283a405b380f4e5a52c1e2cfa151747247f003 | b0fd81d55252ec587618d0975d830f2acee964db |     7 |\\n| m/44'/0'/0'/0/8 | 1K5oBCNpnxnzEmwefsHKP2gz2tikTEFNy9 | xprvA36NXtpwDjTDLExC7LU59ioRFupYuKLXUewh6y5YPbWkSFzs4qKeHTPC4hgDF8jR6S95enAC23JQ1G8qBJvfNC57jwaw43Y2Je1SJzbEUVH | xpub6G5iwQMq471WYj2fDN15Wrk9owf3Jn4NqssHuMV9ww3jK4L1cNdtqFhfv1Sy9VJVWiofL9rtmrup463BP6fwG44U4wTrxLwTNqfAP9YtpaM | L14jUXePQD8fCk9pEDqWHhxXn1C7rLnPM56D9aLz5Z1YwNPjabbz | 03dbbd2a858ea03bb4e5677073c52700f62297653008e06834c091d1c9c90713fc | c65a793bc318f3a9b4c18b4cbb30fc5faad533ba |     8 |\\n| m/44'/0'/0'/0/9 | 1G4UbtDz6uaGG7NgyMThvB1BabYFYW4PCX | xprvA36NXtpwDjTDRCKUsRHFLfMDd7o1XiKmVX1fsJB1oD1gU2hEsfy7EHKFxDtEd7Wen9aCSJB6zS65BeqX6jt2bdSb3mQQ3Vi4p2NKocYZYJo | xpub6G5iwQMq471WdgPwySpFhoHxB9dVwB3crjwGfgadMYYfLq2PRDHMn5djoUv85h7UWJhB8uufo2GTTYzYu1CDiP59562VAQHzUju25Zti6y6 | L4K7PVfHMnW4PEHMrCSFusLfETV3m1hjBmzhf4nxpLMD6X6qMV63 | 02d3ea198d79cc5bef09745d74fb10914a910e6ff5e85170869ad0620999cf7b59 | a5322cd734f87233060dd697f261c6edc190ff30 |     9 |\\n+-----------------+------------------------------------+-----------------------------------------------------------------------------------------------------------------+-----------------------------------------------------------------------------------------------------------------+------------------------------------------------------+--------------------------------------------------------------------+------------------------------------------+-------+\\n\\n\"\n"
     ]
    }
   ],
   "source": [
    "import subprocess\n",
    "import os\n",
    "\n",
    "coin= ETH\n",
    "mnemonic=mnemonic\n",
    "depth=3\n",
    "# Mac Users, you might have to try the commented version\n",
    "#command = './derive -g --mnemonic=\"person tortoise lake saddle face member apology silk amount release airport hospital\" --cols=path,address,privkey,pubkey --format=json'\n",
    "command = f'php derive -g --mnemonic={mnemonic} --coin={coin} --numderive={depth} --format=json'\n",
    "\n",
    "p = subprocess.Popen(command, stdout=subprocess.PIPE, shell=True)\n",
    "\n",
    "(output, err) = p.communicate()\n",
    "print(output)"
   ]
  },
  {
   "cell_type": "code",
   "execution_count": 10,
   "metadata": {},
   "outputs": [],
   "source": [
    "mnemonic = \"buyer cloud sign timber team artefact snow risk brisk shift crawl people\""
   ]
  },
  {
   "cell_type": "code",
   "execution_count": 11,
   "metadata": {},
   "outputs": [
    {
     "data": {
      "text/plain": [
       "'eth'"
      ]
     },
     "execution_count": 11,
     "metadata": {},
     "output_type": "execute_result"
    }
   ],
   "source": [
    "coin"
   ]
  },
  {
   "cell_type": "code",
   "execution_count": 12,
   "metadata": {},
   "outputs": [
    {
     "data": {
      "text/plain": [
       "3"
      ]
     },
     "execution_count": 12,
     "metadata": {},
     "output_type": "execute_result"
    }
   ],
   "source": [
    "depth"
   ]
  },
  {
   "cell_type": "code",
   "execution_count": 13,
   "metadata": {},
   "outputs": [
    {
     "name": "stdout",
     "output_type": "stream",
     "text": [
      "[{'path': \"m/44'/1'/0'/0/0\", 'address': 'mfYUUgorBj1SF4kSrvB6PMwddfSHQuJNJV', 'xprv': 'tprv8jTCd4FXRmgZAvdxouseV9rDYZYopZMqnXGitWReYgvswkcSMBsbgFC6UePzsr1vuBrzM56eoAFUBt6BBhGQL2WRB2vgmAHMD2MiJruMPaS', 'xpub': 'tpubDG9EmUHma9NE4PfkhZYEtZWL7b4jytYkMpsWB2TwxxjGnEsCyahBrjoxekzgTzqCL2bRe2fUo6GGjPHpRHThemaCcEsadgscsFh4G6Sfbwj', 'privkey': 'cPmY3MGqsvEJ6etHc5kkiXqKDkzkz1f2KcHv2i234CkwCdqwsn8p', 'pubkey': '02135a00d65a28aab4d57c2f3eccc2556532e372449afe754c8416a433885c1944', 'pubkeyhash': '00499c9ac7c6efb721db5dbad0c8239ae74e38dd', 'index': 0}, {'path': \"m/44'/1'/0'/0/1\", 'address': 'mq1wuCi2jKEdbrEfrPeJM3CMnXuedZGG7C', 'xprv': 'tprv8jTCd4FXRmgZCvSLw8bzcGJMr6RVVQam4juUivz5XwZ5ZpNVN2ASrQ1ZBaPPTB9AK8YkAqaaKxEiNgM5276Xdh3MQsA4NtTBpRfAFTx2mEJ', 'xpub': 'tpubDG9EmUHma9NE6PU8pnGb1fxUR7wRejmfe3WG1T2NxDMUQJdFzQz32tdRMhMpbHJ3kJiBz15gqXhEemM2bc9FGaNR4wV8n6iuWaPcphj2jgs', 'privkey': 'cUheZaLXhVHAv3kbqp9UEGfkfZ27aM4Vpq5x68MfLvfr871de9pp', 'pubkey': '02d7ed3aa9472df04c2e1fa26dfa4f43920194820d92848af9741bd880506cc588', 'pubkeyhash': '6834ddb62540a89d208db0ce53ff373f843f9cd3', 'index': 1}, {'path': \"m/44'/1'/0'/0/2\", 'address': 'mxSubbC6vPBNMWnPmQQMV47mgfkFELDkgo', 'xprv': 'tprv8jTCd4FXRmgZDw8wUemFFWicDgf2uqbTXP1gjxg3LrrF9Kp51kLGFezbucaacv3KRdSwm6VGDyHeYQVtAqjUJtUN8J3C4vCqkhcq8LmirJb', 'xpub': 'tpubDG9EmUHma9NE7QAjNJRqevNiniAy5AnN6gcU2UiLm8edyp4qe99rS9cU5mUhQ5wCb4AjoKnzJk5hmvv8vKgo1kMbUx3ZWgyLHw8Sv2r9K7m', 'privkey': 'cPvnhnnBKsz1wmhDBqgNd3LmEzQcHpEsK8C4RPwbTWrfX1kGVBDv', 'pubkey': '0347172a918038eb45df38c3c22b17645f8c164cfc82af070d3bc87547cbbb45e1', 'pubkeyhash': 'b9b638fbcedfb54431658cbe308aa9be1f5e5ae5', 'index': 2}]\n"
     ]
    }
   ],
   "source": [
    "import subprocess\n",
    "import json\n",
    "\n",
    "coin='btc-test'\n",
    "mnemonic=mnemonic\n",
    "#mnemonic=\"person tortoise lake saddle face member apology silk amount release airport hospital\"\n",
    "depth=3\n",
    "\n",
    "\n",
    "command = f'php derive -g --mnemonic=\"{mnemonic}\" --coin={coin}  --numderive={depth} --format=json'\n",
    "\n",
    "p = subprocess.Popen(command, stdout=subprocess.PIPE, shell=True)\n",
    "(output, err) = p.communicate()\n",
    "\n",
    "\n",
    "keys = json.loads(output)\n",
    "print(keys)"
   ]
  },
  {
   "cell_type": "code",
   "execution_count": 14,
   "metadata": {},
   "outputs": [
    {
     "name": "stdout",
     "output_type": "stream",
     "text": [
      "[{'path': \"m/44'/0'/0'/0/0\", 'address': '1JGopeYo44AK8jDPB91URWaKLL5YW8oiVm', 'xprv': 'xprvA4BGxnUGdkJPiV3wo2rReQ42Pj3WzF1dXyYx51gsMDBWSWJkvJHbha4kcTWg7YCjDD3ZcFvEuzfJmAYbPfFYf8KxgaXRV5cX3rz5hbeMB1L', 'xpub': 'xpub6HAdNJ1AU7rgvy8Qu4PS1Xzkwkt1PhjUuCUYsQ6UuYiVKJduTqbrFNPEThqzxKCyKfT6p5WuUZ1fJxcZaEfL9hYkZdnkkUxCwudWrpyg8Uc', 'privkey': 'L3YWW9XNweWDGvh8VF8kBFbo3SZt8cSW8mZAJLkXCfysVhDu3XuW', 'pubkey': '0260de31f5aeddc5f4bf0d5b87e7ffe4827fb2bc746cbd1516ba73c5e4eaa574cf', 'pubkeyhash': 'bd77765e4df5a32e20813ff09d782c305e6073ab', 'index': 0}, {'path': \"m/44'/0'/0'/0/1\", 'address': '19YTReoVqKEgPLXXnFPCwemjRZ7EQVXT6q', 'xprv': 'xprvA4BGxnUGdkJPm3gEdRjSJJYZcm11zA3ZQaL5Vh5fZ11oY5sDCRPdoxbWY2nyU8UhCwqDyh6fADt6YFcxkMF3jo56kkyuSSa4ktgYnw24g43', 'xpub': 'xpub6HAdNJ1AU7rgyXkhjTGSfSVJAnqWPcmQmoFgJ5VH7LYnQtCMjxhtMkuzPJFVy4129ZP46xHe6HWoSAexh7gdQLze7Y6W1VEiEYNfkwHxsHK', 'privkey': 'KwGDZXnPvbfpEF7p9U3JUfEnnbceYc6gQMEYzB6qQbnzH1cBHnDx', 'pubkey': '02398256916014b0b6b06a153515b6e5aa09ce764beb2c2a88c5ea6354696d0030', 'pubkeyhash': '5db3f5a7b1b9c26fdff67497db7a0a95f88897e3', 'index': 1}, {'path': \"m/44'/0'/0'/0/2\", 'address': '1MiWqLjNT9g9dyWD5WnNSJr5LVuHmZze9k', 'xprv': 'xprvA4BGxnUGdkJPofyJzExaD9xEVFef8tovaMKs55EHDdUoS4L5wAmcTNEjLC6Fzq3zXWSNQuWHPLcawEseemQcrwBFbfLqy2fwWKMUokQ4vmc', 'xpub': 'xpub6HAdNJ1AU7rh2A3n6GVaaHty3HV9YMXmwaFTsTdtmy1nJrfEUi5s1AZDBTRw618WfEQxJwh8JoSWA4fZWS4fDsPoGkrz44bma5gUMKSHEqb', 'privkey': 'L281f7ye3L9QrYsGbzZXzpxb4AyvUb6VyorMzqqSrzNVmtwzpnYZ', 'pubkey': '02baeabf7c2ed57ae5801d53b04211d0930a6f9a1cc65a21d779544a11e29891bc', 'pubkeyhash': 'e33c794c447d58e42dd40c906498cb6b5c06958b', 'index': 2}]\n"
     ]
    }
   ],
   "source": [
    "coin=BTC\n",
    "mnemonic=mnemonic\n",
    "depth=3\n",
    "\n",
    "command = f'php derive -g --mnemonic=\"{mnemonic}\" --coin={coin}  --numderive={depth} --format=json'\n",
    "\n",
    "p = subprocess.Popen(\n",
    "    command,\n",
    "    stdout=subprocess.PIPE,\n",
    "    shell=True)\n",
    "(output, err) = p.communicate()\n",
    "p_status = p.wait()\n",
    "keys = json.loads(output)\n",
    "print(keys)"
   ]
  },
  {
   "cell_type": "code",
   "execution_count": 15,
   "metadata": {},
   "outputs": [],
   "source": [
    "def derive_wallets(coin=BTC, mnemonic=mnemonic, depth=3):\n",
    "    command = f'php derive -g --mnemonic=\"{mnemonic}\" --coin={coin}  --numderive={depth} --format=json'\n",
    "\n",
    "    p = subprocess.Popen(\n",
    "        command,\n",
    "        stdout=subprocess.PIPE,\n",
    "        shell=True)\n",
    "    (output, err) = p.communicate()\n",
    "    p_status = p.wait()\n",
    "    return json.loads(output)"
   ]
  },
  {
   "cell_type": "code",
   "execution_count": 16,
   "metadata": {},
   "outputs": [],
   "source": [
    "coins = {\n",
    "    ETH: derive_wallets(coin=ETH),\n",
    "    BTCTEST: derive_wallets(coin=BTCTEST),\n",
    "}"
   ]
  },
  {
   "cell_type": "code",
   "execution_count": 17,
   "metadata": {},
   "outputs": [
    {
     "name": "stdout",
     "output_type": "stream",
     "text": [
      "{'btc-test': [{'address': 'mfYUUgorBj1SF4kSrvB6PMwddfSHQuJNJV',\n",
      "               'index': 0,\n",
      "               'path': \"m/44'/1'/0'/0/0\",\n",
      "               'privkey': 'cPmY3MGqsvEJ6etHc5kkiXqKDkzkz1f2KcHv2i234CkwCdqwsn8p',\n",
      "               'pubkey': '02135a00d65a28aab4d57c2f3eccc2556532e372449afe754c8416a433885c1944',\n",
      "               'pubkeyhash': '00499c9ac7c6efb721db5dbad0c8239ae74e38dd',\n",
      "               'xprv': 'tprv8jTCd4FXRmgZAvdxouseV9rDYZYopZMqnXGitWReYgvswkcSMBsbgFC6UePzsr1vuBrzM56eoAFUBt6BBhGQL2WRB2vgmAHMD2MiJruMPaS',\n",
      "               'xpub': 'tpubDG9EmUHma9NE4PfkhZYEtZWL7b4jytYkMpsWB2TwxxjGnEsCyahBrjoxekzgTzqCL2bRe2fUo6GGjPHpRHThemaCcEsadgscsFh4G6Sfbwj'},\n",
      "              {'address': 'mq1wuCi2jKEdbrEfrPeJM3CMnXuedZGG7C',\n",
      "               'index': 1,\n",
      "               'path': \"m/44'/1'/0'/0/1\",\n",
      "               'privkey': 'cUheZaLXhVHAv3kbqp9UEGfkfZ27aM4Vpq5x68MfLvfr871de9pp',\n",
      "               'pubkey': '02d7ed3aa9472df04c2e1fa26dfa4f43920194820d92848af9741bd880506cc588',\n",
      "               'pubkeyhash': '6834ddb62540a89d208db0ce53ff373f843f9cd3',\n",
      "               'xprv': 'tprv8jTCd4FXRmgZCvSLw8bzcGJMr6RVVQam4juUivz5XwZ5ZpNVN2ASrQ1ZBaPPTB9AK8YkAqaaKxEiNgM5276Xdh3MQsA4NtTBpRfAFTx2mEJ',\n",
      "               'xpub': 'tpubDG9EmUHma9NE6PU8pnGb1fxUR7wRejmfe3WG1T2NxDMUQJdFzQz32tdRMhMpbHJ3kJiBz15gqXhEemM2bc9FGaNR4wV8n6iuWaPcphj2jgs'},\n",
      "              {'address': 'mxSubbC6vPBNMWnPmQQMV47mgfkFELDkgo',\n",
      "               'index': 2,\n",
      "               'path': \"m/44'/1'/0'/0/2\",\n",
      "               'privkey': 'cPvnhnnBKsz1wmhDBqgNd3LmEzQcHpEsK8C4RPwbTWrfX1kGVBDv',\n",
      "               'pubkey': '0347172a918038eb45df38c3c22b17645f8c164cfc82af070d3bc87547cbbb45e1',\n",
      "               'pubkeyhash': 'b9b638fbcedfb54431658cbe308aa9be1f5e5ae5',\n",
      "               'xprv': 'tprv8jTCd4FXRmgZDw8wUemFFWicDgf2uqbTXP1gjxg3LrrF9Kp51kLGFezbucaacv3KRdSwm6VGDyHeYQVtAqjUJtUN8J3C4vCqkhcq8LmirJb',\n",
      "               'xpub': 'tpubDG9EmUHma9NE7QAjNJRqevNiniAy5AnN6gcU2UiLm8edyp4qe99rS9cU5mUhQ5wCb4AjoKnzJk5hmvv8vKgo1kMbUx3ZWgyLHw8Sv2r9K7m'}],\n",
      " 'eth': [{'address': '0x016de3A60310DaB7A1e200c70A3DdbE3324d5DA1',\n",
      "          'index': 0,\n",
      "          'path': \"m/44'/60'/0'/0/0\",\n",
      "          'privkey': '0x546084dc172669497f78cbb13070ffd301e21f2cb5d26b0fcf7aa6b54ed2dfc8',\n",
      "          'pubkey': '03697bfd9d6b8b21ab8f665c734881d6f7dcdb6274ccd3d047dcffa0b82834f581',\n",
      "          'pubkeyhash': 'e6d9a65847cf6152e3418b458db9f6b77e175399',\n",
      "          'xprv': 'xprvA3WTSt6aJiqk4LWsWAZ1TTsMSEU5YR45fbtg55TP24fn735h27xjTEi3jqBR1YdeuECuarLKkjwisUQZuyF2cynQH3XFYS8jvHG52DupTDw',\n",
      "          'xpub': 'xpub6GVorPdU96Q3GpbLcC61pbp5zGJZwsmw2ppGsTrzaQCkyqQqZfGz132Xb8KDnaS7RGZr2euchenffMSL47mY3GLDjU1k58J8BSkqAnaUfXq'},\n",
      "         {'address': '0xef08985B35e1651dE30004D7565cC08A56d13cfB',\n",
      "          'index': 1,\n",
      "          'path': \"m/44'/60'/0'/0/1\",\n",
      "          'privkey': '0x685c0391263a4a613d715db70f5a579982eb2401ccea1ff0ad42801aea68b1f9',\n",
      "          'pubkey': '03cb0ce64ea52bac40086fa94725666d96f1d1826f478344d6b672185386a8daf2',\n",
      "          'pubkeyhash': 'd64ce51beff6b5f66bb65340e48bf820be735871',\n",
      "          'xprv': 'xprvA3WTSt6aJiqk54Po32AcGo6HQhjYvUvQmSLmAKWDJgLhV4ANKvSqshuxvzRV329TYg2kybQ23y5iA8YTWXrZaGq5DFJBijKtVH2HD153Gn2',\n",
      "          'xpub': 'xpub6GVorPdU96Q3HYUG93hcdw31xja3KweG8fGMxhups1sgMrVWsTm6RWESnJ9TaiocNtHW5bdXgkDrfTo5EdEdRmqPt6DDUTxrG53CDAyyY2v'},\n",
      "         {'address': '0x2bAB3aA94a5A4A0CbF887a43Ad980C19a86Ba7F3',\n",
      "          'index': 2,\n",
      "          'path': \"m/44'/60'/0'/0/2\",\n",
      "          'privkey': '0x4a44c4ff6efe9ffec303455b0caead4f3a086193de9519d082f4c9fe18661cd5',\n",
      "          'pubkey': '03f81f4c734abb7572e974e159666ddcdf69dc7980d7c39a9f5860bf1e8f6cde88',\n",
      "          'pubkeyhash': '2bca30f907b5625c1793e63b5ae4ced3f4d75c7d',\n",
      "          'xprv': 'xprvA3WTSt6aJiqk7AxncGb3iEfecmi5bXfVKoBiwXi5LZA45LCzvQdvQhW5n9cinZCDSQD8aKLdJNuLHic4ZsYk2Tukz8jJBHGg7D8y5dJqkaU',\n",
      "          'xpub': 'xpub6GVorPdU96Q3Kf3FiJ845NcPAoYZzzPLh27Kjv7gtth2x8Y9TwxAxVpZdTuoGAjtf2JoATnWb8knga3ay2yDQrNb2UQEvNrgkZnJ52kQ3A5'}]}\n"
     ]
    }
   ],
   "source": [
    "pprint(coins)"
   ]
  },
  {
   "cell_type": "code",
   "execution_count": 18,
   "metadata": {},
   "outputs": [
    {
     "data": {
      "text/plain": [
       "'0x546084dc172669497f78cbb13070ffd301e21f2cb5d26b0fcf7aa6b54ed2dfc8'"
      ]
     },
     "execution_count": 18,
     "metadata": {},
     "output_type": "execute_result"
    }
   ],
   "source": [
    "coins['eth'][0]['privkey']\n",
    "#Use this address to send mone"
   ]
  },
  {
   "cell_type": "code",
   "execution_count": 19,
   "metadata": {},
   "outputs": [],
   "source": [
    "\n",
    "def priv_key_to_account(coin, priv_key):\n",
    "    if coin == ETH:\n",
    "        return Account.privateKeyToAccount(priv_key)\n",
    "    if coin == BTCTEST:\n",
    "        return PrivateKeyTestnet(priv_key)\n"
   ]
  },
  {
   "cell_type": "code",
   "execution_count": 20,
   "metadata": {},
   "outputs": [],
   "source": [
    "#private_key = coins['eth'][0]['privkey']\n",
    "private_key = \"0x413f96f1f1be799eef201255a20770c3ad3f81baa353b3fc7d2888db3a05e625\""
   ]
  },
  {
   "cell_type": "code",
   "execution_count": 21,
   "metadata": {},
   "outputs": [],
   "source": [
    "account = priv_key_to_account(ETH, private_key)"
   ]
  },
  {
   "cell_type": "code",
   "execution_count": 22,
   "metadata": {},
   "outputs": [
    {
     "data": {
      "text/plain": [
       "<eth_account.signers.local.LocalAccount at 0x1a9a588f070>"
      ]
     },
     "execution_count": 22,
     "metadata": {},
     "output_type": "execute_result"
    }
   ],
   "source": [
    "account"
   ]
  },
  {
   "cell_type": "code",
   "execution_count": 23,
   "metadata": {},
   "outputs": [],
   "source": [
    "from eth_account import Account\n",
    "account_one = Account.from_key(private_key)"
   ]
  },
  {
   "cell_type": "code",
   "execution_count": 24,
   "metadata": {},
   "outputs": [
    {
     "data": {
      "text/plain": [
       "<eth_account.signers.local.LocalAccount at 0x1a9a58768b0>"
      ]
     },
     "execution_count": 24,
     "metadata": {},
     "output_type": "execute_result"
    }
   ],
   "source": [
    "account_one"
   ]
  },
  {
   "cell_type": "code",
   "execution_count": 25,
   "metadata": {},
   "outputs": [
    {
     "name": "stdout",
     "output_type": "stream",
     "text": [
      "0x5793762f4B97A148E5f478ABE7705E3f7d628486\n"
     ]
    }
   ],
   "source": [
    "print(account.address)"
   ]
  },
  {
   "cell_type": "code",
   "execution_count": 26,
   "metadata": {},
   "outputs": [
    {
     "name": "stdout",
     "output_type": "stream",
     "text": [
      "0x5793762f4B97A148E5f478ABE7705E3f7d628486\n"
     ]
    }
   ],
   "source": [
    "print(account_one.address)"
   ]
  },
  {
   "cell_type": "code",
   "execution_count": 27,
   "metadata": {},
   "outputs": [
    {
     "data": {
      "text/plain": [
       "'btc'"
      ]
     },
     "execution_count": 27,
     "metadata": {},
     "output_type": "execute_result"
    }
   ],
   "source": [
    "coin"
   ]
  },
  {
   "cell_type": "code",
   "execution_count": 28,
   "metadata": {},
   "outputs": [],
   "source": [
    "amount = 0.01"
   ]
  },
  {
   "cell_type": "code",
   "execution_count": 29,
   "metadata": {},
   "outputs": [],
   "source": [
    "to = \"0x0eF3322cf7efd345E9243a9E9593F501887AE62D\"\n",
    "#to = \"0x55b7ccc6fb43c67e70fcbcd367bd02d8f96d09f5\""
   ]
  },
  {
   "cell_type": "code",
   "execution_count": 30,
   "metadata": {},
   "outputs": [],
   "source": [
    "def create_raw_tx(account, recipient, amount):\n",
    "    gasEstimate = w3.eth.estimateGas(\n",
    "        {\"from\": account.address, \"to\": recipient, \"value\": amount}\n",
    "    )\n",
    "    return {\n",
    "        \"from\": account.address,\n",
    "        \"to\": recipient,\n",
    "        \"value\": amount,\n",
    "        \"gasPrice\": w3.eth.gasPrice,\n",
    "        \"gas\": gasEstimate,\n",
    "        \"nonce\": w3.eth.getTransactionCount(account.address),\n",
    "    }"
   ]
  },
  {
   "cell_type": "code",
   "execution_count": 31,
   "metadata": {},
   "outputs": [],
   "source": [
    "def send_tx(account, recipient, amount):\n",
    "    tx = create_raw_tx(account, recipient, amount)\n",
    "    signed_tx = account.sign_transaction(tx)\n",
    "    result = w3.eth.sendRawTransaction(signed_tx.rawTransaction)\n",
    "    print(result.hex())\n",
    "    return result.hex()"
   ]
  },
  {
   "cell_type": "code",
   "execution_count": 32,
   "metadata": {},
   "outputs": [],
   "source": [
    "#private_key = coins['eth'][0]['privkey']\n",
    "private_key = \"0x413f96f1f1be799eef201255a20770c3ad3f81baa353b3fc7d2888db3a05e625\""
   ]
  },
  {
   "cell_type": "code",
   "execution_count": 33,
   "metadata": {},
   "outputs": [],
   "source": [
    "account_one = Account.from_key(private_key)"
   ]
  },
  {
   "cell_type": "code",
   "execution_count": 34,
   "metadata": {},
   "outputs": [
    {
     "data": {
      "text/plain": [
       "<eth_account.signers.local.LocalAccount at 0x1a9a5876550>"
      ]
     },
     "execution_count": 34,
     "metadata": {},
     "output_type": "execute_result"
    }
   ],
   "source": [
    "account_one "
   ]
  },
  {
   "cell_type": "code",
   "execution_count": 35,
   "metadata": {},
   "outputs": [
    {
     "name": "stdout",
     "output_type": "stream",
     "text": [
      "0x6d087e161c3b2238d67ef93a79b4d2d4a51a32d10cc4a264aea6b4c5114700ba\n"
     ]
    },
    {
     "data": {
      "text/plain": [
       "'0x6d087e161c3b2238d67ef93a79b4d2d4a51a32d10cc4a264aea6b4c5114700ba'"
      ]
     },
     "execution_count": 35,
     "metadata": {},
     "output_type": "execute_result"
    }
   ],
   "source": [
    "send_tx(account_one, to, 3)"
   ]
  },
  {
   "cell_type": "code",
   "execution_count": null,
   "metadata": {},
   "outputs": [],
   "source": []
  }
 ],
 "metadata": {
  "kernelspec": {
   "display_name": "Python 3",
   "language": "python",
   "name": "python3"
  },
  "language_info": {
   "codemirror_mode": {
    "name": "ipython",
    "version": 3
   },
   "file_extension": ".py",
   "mimetype": "text/x-python",
   "name": "python",
   "nbconvert_exporter": "python",
   "pygments_lexer": "ipython3",
   "version": "3.8.3"
  }
 },
 "nbformat": 4,
 "nbformat_minor": 4
}
